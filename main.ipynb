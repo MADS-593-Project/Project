{
 "cells": [
  {
   "cell_type": "code",
   "execution_count": 6,
   "id": "3021ec29",
   "metadata": {},
   "outputs": [],
   "source": [
    "\n",
    "# Import Dependencies\n",
    "\n",
    "\n",
    "import numpy as np\n",
    "import math\n",
    "\n",
    "import matplotlib.pyplot as plt\n",
    "import seaborn as sns\n",
    "import scipy.stats as stats\n",
    "from scipy.stats import norm\n",
    "\n",
    "# from sklearn.neighbors import KernelDensity\n",
    "# from bokeh.models import ColumnDataSource, Label, PrintfTickFormatter\n",
    "# from bokeh.palettes import Dark2_5 as colors\n",
    "# from bokeh.plotting import figure, show\n",
    "# from bokeh.sampledata.cows import data as df\n",
    "# from bokeh.io import output_notebook\n"
   ]
  },
  {
   "cell_type": "code",
   "execution_count": 9,
   "id": "20dd286d",
   "metadata": {},
   "outputs": [
    {
     "data": {
      "text/plain": [
       "array(['1992', '1994', '1995', '1996', '1997', '1998', '1999', '2000',\n",
       "       '2001', '2002', '2003', '2004', '2005', '2006', '2007', '2008',\n",
       "       '2009', '2010', '2011', '2012', '2013', '2014', '2015', nan],\n",
       "      dtype=object)"
      ]
     },
     "execution_count": 9,
     "metadata": {},
     "output_type": "execute_result"
    }
   ],
   "source": [
    "import pandas as pd\n",
    "\n",
    "df_course = pd.read_csv('student.course.csv')\n",
    "df_record = pd.read_csv('student.record.csv')\n",
    "df_term = pd.read_table('term.table.txt', delimiter=\"\\t\").fillna('Unknown')\n",
    "df_term.columns = ['TERM_ID', 'TERM_DESCRIPTION']\n",
    "\n",
    "terms = ['Fall', 'Winter', 'Summer', 'Spring', 'Unknown']\n",
    "df_term['TERM_NAME'] = df_term['TERM_DESCRIPTION'].apply(lambda x: list(filter(lambda y: y!='', [t if t in x else '' for t in terms]))[0])\n",
    "df_term['TERM_YEAR'] = df_term['TERM_DESCRIPTION'].apply(lambda x: x[-4:] if x[-4:].isnumeric() else None)\n",
    "\n",
    "merge_course_df = pd.merge(\n",
    "                    df_course,\n",
    "                    df_term, \n",
    "                    how='left',\n",
    "                    left_on='TERM',\n",
    "                    right_on='TERM_ID')\n",
    "\n",
    "terms_student = ['ADMIT_TERM', 'MAJOR1_TERM', 'MAJOR2_TERM', 'MAJOR3_TERM']\n",
    "for term in terms_student:\n",
    "    merge_record_df = pd.merge(\n",
    "                        df_record,\n",
    "                        df_term, \n",
    "                        how='left',\n",
    "                        left_on=term,\n",
    "                        right_on='TERM_ID')    \n",
    "    \n",
    "    merge_record_df.rename(columns={'TERM_ID': term + '_' + 'TERM_ID', \n",
    "                            'TERM_DESCRIPTION': term + '_' + 'TERM_DESCRIPTION', \n",
    "                            'TERM_NAME': term + '_' + 'TERM_NAME', \n",
    "                            'TERM_YEAR': term + '_' + 'TERM_YEAR'}, inplace=True)    \n",
    "# df_term\n",
    "# df_course\n",
    "# df_record\n",
    "# merge_course_df\n",
    "# merge_record_df\n",
    "\n",
    "    \n",
    "course_columns = ['ANONID', 'SUBJECT', 'CATALOG_NBR', 'GRD_PTS_PER_UNIT', 'GPAO', 'DIV',\n",
    "                  'ANON_INSTR_ID', 'TERM', 'TERM_ID', 'TERM_DESCRIPTION', 'TERM_NAME', 'TERM_YEAR']\n",
    "\n",
    "record_columns = ['MAJOR3_DESCR', 'MAJOR2_DESCR', 'MAJOR1_DESCR', 'HSGPA', 'LAST_ACT_ENGL_SCORE', 'LAST_ACT_MATH_SCORE',\n",
    "                  'LAST_ACT_READ_SCORE', 'LAST_ACT_SCIRE_SCORE', 'LAST_ACT_COMP_SCORE', 'LAST_SATI_VERB_SCORE', \n",
    "                  'LAST_SATI_MATH_SCORE', 'LAST_SATI_TOTAL_SCORE', 'SEX', 'STDNT_GROUP1', 'STDNT_GROUP2', 'MAJOR1_DEPT', \n",
    "                  'MAJOR2_DEPT', 'MAJOR3_DEPT', 'ANONID', 'ADMIT_TERM', 'MAJOR1_TERM', 'MAJOR2_TERM', 'MAJOR3_TERM', \n",
    "                  'MAJOR3_TERM_TERM_ID', 'MAJOR3_TERM_TERM_DESCRIPTION', 'MAJOR3_TERM_TERM_NAME', 'MAJOR3_TERM_TERM_YEAR']   \n",
    "\n",
    "# merge_course_df.describe()\n",
    "# merge_record_df.describe()\n",
    "\n",
    "\n",
    "# https://www.bls.gov/oes/tables.htm\n",
    "# https://data.census.gov/table/ACSST1Y2015.S0101\n",
    "merge_record_df.sort_values(by=['MAJOR3_TERM_TERM_YEAR'], ascending=[True])['MAJOR3_TERM_TERM_YEAR'].unique()\n",
    "# 1992 - 2015\n",
    "\n",
    "\n",
    "# Occupational data by gender\n",
    "# https://www.bls.gov/cps/cps_aa2015.htm\n",
    "\n",
    "# https://www.axios.com/2020/06/30/half-us-population-unemployed\n",
    "# the labor market is only at 50%?\n",
    "\n",
    "\n"
   ]
  }
 ],
 "metadata": {
  "kernelspec": {
   "display_name": "Python 3 (ipykernel)",
   "language": "python",
   "name": "python3"
  },
  "language_info": {
   "codemirror_mode": {
    "name": "ipython",
    "version": 3
   },
   "file_extension": ".py",
   "mimetype": "text/x-python",
   "name": "python",
   "nbconvert_exporter": "python",
   "pygments_lexer": "ipython3",
   "version": "3.10.6"
  }
 },
 "nbformat": 4,
 "nbformat_minor": 5
}
